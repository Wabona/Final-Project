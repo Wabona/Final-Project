{
 "cells": [
  {
   "cell_type": "markdown",
   "metadata": {},
   "source": [
    "Basic import statement"
   ]
  },
  {
   "cell_type": "code",
   "execution_count": 1,
   "metadata": {},
   "outputs": [
    {
     "data": {
      "text/html": [
       "<div>\n",
       "<style scoped>\n",
       "    .dataframe tbody tr th:only-of-type {\n",
       "        vertical-align: middle;\n",
       "    }\n",
       "\n",
       "    .dataframe tbody tr th {\n",
       "        vertical-align: top;\n",
       "    }\n",
       "\n",
       "    .dataframe thead th {\n",
       "        text-align: right;\n",
       "    }\n",
       "</style>\n",
       "<table border=\"1\" class=\"dataframe\">\n",
       "  <thead>\n",
       "    <tr style=\"text-align: right;\">\n",
       "      <th></th>\n",
       "      <th>PK</th>\n",
       "      <th>CCR</th>\n",
       "      <th>AGE</th>\n",
       "      <th>GENDER</th>\n",
       "      <th>RACE</th>\n",
       "      <th>ARRESTTIME</th>\n",
       "      <th>ARRESTLOCATION</th>\n",
       "      <th>OFFENSES</th>\n",
       "      <th>INCIDENTLOCATION</th>\n",
       "      <th>INCIDENTNEIGHBORHOOD</th>\n",
       "      <th>INCIDENTZONE</th>\n",
       "      <th>INCIDENTTRACT</th>\n",
       "      <th>COUNCIL_DISTRICT</th>\n",
       "      <th>PUBLIC_WORKS_DIVISION</th>\n",
       "      <th>X</th>\n",
       "      <th>Y</th>\n",
       "    </tr>\n",
       "  </thead>\n",
       "  <tbody>\n",
       "    <tr>\n",
       "      <th>0</th>\n",
       "      <td>1975272</td>\n",
       "      <td>16158872</td>\n",
       "      <td>42.0</td>\n",
       "      <td>F</td>\n",
       "      <td>B</td>\n",
       "      <td>2016-08-24T12:20:00</td>\n",
       "      <td>4700 Block Centre AV Pittsburgh, PA 15213</td>\n",
       "      <td>3929 Retail Theft.</td>\n",
       "      <td>4700 Block Centre AV Pittsburgh, PA 15213</td>\n",
       "      <td>Bloomfield</td>\n",
       "      <td>5</td>\n",
       "      <td>804.0</td>\n",
       "      <td>8.0</td>\n",
       "      <td>2.0</td>\n",
       "      <td>-79.949277</td>\n",
       "      <td>40.452551</td>\n",
       "    </tr>\n",
       "    <tr>\n",
       "      <th>1</th>\n",
       "      <td>1974456</td>\n",
       "      <td>16144120</td>\n",
       "      <td>31.0</td>\n",
       "      <td>M</td>\n",
       "      <td>W</td>\n",
       "      <td>2016-08-03T14:55:00</td>\n",
       "      <td>4200 Block Steubenville PKE Pittsburgh, PA 15205</td>\n",
       "      <td>13(a)(16) Possession of Controlled Substance</td>\n",
       "      <td>4200 Block Steubenville PKE Pittsburgh, PA 15205</td>\n",
       "      <td>Outside City</td>\n",
       "      <td>OSC</td>\n",
       "      <td>5599.0</td>\n",
       "      <td>NaN</td>\n",
       "      <td>NaN</td>\n",
       "      <td>-80.088018</td>\n",
       "      <td>40.440136</td>\n",
       "    </tr>\n",
       "    <tr>\n",
       "      <th>2</th>\n",
       "      <td>1974466</td>\n",
       "      <td>16144165</td>\n",
       "      <td>63.0</td>\n",
       "      <td>F</td>\n",
       "      <td>B</td>\n",
       "      <td>2016-08-03T16:45:00</td>\n",
       "      <td>900 Block Freeport RD Fox Chapel, PA 15238</td>\n",
       "      <td>3929 Retail Theft.</td>\n",
       "      <td>900 Block Freeport RD Fox Chapel, PA 15238</td>\n",
       "      <td>Westwood</td>\n",
       "      <td>5</td>\n",
       "      <td>2811.0</td>\n",
       "      <td>9.0</td>\n",
       "      <td>2.0</td>\n",
       "      <td>-79.891803</td>\n",
       "      <td>40.486625</td>\n",
       "    </tr>\n",
       "    <tr>\n",
       "      <th>3</th>\n",
       "      <td>1974550</td>\n",
       "      <td>16145257</td>\n",
       "      <td>25.0</td>\n",
       "      <td>F</td>\n",
       "      <td>W</td>\n",
       "      <td>2016-08-05T02:36:00</td>\n",
       "      <td>Foreland ST &amp; Cedar AV Pittsburgh, PA 15212</td>\n",
       "      <td>5503 Disorderly Conduct. / 5505 Public Drunken...</td>\n",
       "      <td>Foreland ST &amp; Cedar AV Pittsburgh, PA 15212</td>\n",
       "      <td>East Allegheny</td>\n",
       "      <td>1</td>\n",
       "      <td>2304.0</td>\n",
       "      <td>1.0</td>\n",
       "      <td>1.0</td>\n",
       "      <td>-80.001939</td>\n",
       "      <td>40.454080</td>\n",
       "    </tr>\n",
       "    <tr>\n",
       "      <th>4</th>\n",
       "      <td>1974596</td>\n",
       "      <td>16145962</td>\n",
       "      <td>25.0</td>\n",
       "      <td>M</td>\n",
       "      <td>B</td>\n",
       "      <td>2016-08-06T02:00:00</td>\n",
       "      <td>900 Block Woodlow ST Pittsburgh, PA 15205</td>\n",
       "      <td>2702 Aggravated Assault. / 2705 Recklessy Enda...</td>\n",
       "      <td>900 Block Woodlow ST Pittsburgh, PA 15205</td>\n",
       "      <td>Crafton Heights</td>\n",
       "      <td>5</td>\n",
       "      <td>2814.0</td>\n",
       "      <td>2.0</td>\n",
       "      <td>5.0</td>\n",
       "      <td>-80.052204</td>\n",
       "      <td>40.445900</td>\n",
       "    </tr>\n",
       "  </tbody>\n",
       "</table>\n",
       "</div>"
      ],
      "text/plain": [
       "        PK       CCR   AGE GENDER RACE           ARRESTTIME  \\\n",
       "0  1975272  16158872  42.0      F    B  2016-08-24T12:20:00   \n",
       "1  1974456  16144120  31.0      M    W  2016-08-03T14:55:00   \n",
       "2  1974466  16144165  63.0      F    B  2016-08-03T16:45:00   \n",
       "3  1974550  16145257  25.0      F    W  2016-08-05T02:36:00   \n",
       "4  1974596  16145962  25.0      M    B  2016-08-06T02:00:00   \n",
       "\n",
       "                                     ARRESTLOCATION  \\\n",
       "0         4700 Block Centre AV Pittsburgh, PA 15213   \n",
       "1  4200 Block Steubenville PKE Pittsburgh, PA 15205   \n",
       "2        900 Block Freeport RD Fox Chapel, PA 15238   \n",
       "3       Foreland ST & Cedar AV Pittsburgh, PA 15212   \n",
       "4         900 Block Woodlow ST Pittsburgh, PA 15205   \n",
       "\n",
       "                                            OFFENSES  \\\n",
       "0                                 3929 Retail Theft.   \n",
       "1       13(a)(16) Possession of Controlled Substance   \n",
       "2                                 3929 Retail Theft.   \n",
       "3  5503 Disorderly Conduct. / 5505 Public Drunken...   \n",
       "4  2702 Aggravated Assault. / 2705 Recklessy Enda...   \n",
       "\n",
       "                                   INCIDENTLOCATION INCIDENTNEIGHBORHOOD  \\\n",
       "0         4700 Block Centre AV Pittsburgh, PA 15213           Bloomfield   \n",
       "1  4200 Block Steubenville PKE Pittsburgh, PA 15205         Outside City   \n",
       "2        900 Block Freeport RD Fox Chapel, PA 15238             Westwood   \n",
       "3       Foreland ST & Cedar AV Pittsburgh, PA 15212       East Allegheny   \n",
       "4         900 Block Woodlow ST Pittsburgh, PA 15205      Crafton Heights   \n",
       "\n",
       "  INCIDENTZONE  INCIDENTTRACT  COUNCIL_DISTRICT  PUBLIC_WORKS_DIVISION  \\\n",
       "0            5          804.0               8.0                    2.0   \n",
       "1          OSC         5599.0               NaN                    NaN   \n",
       "2            5         2811.0               9.0                    2.0   \n",
       "3            1         2304.0               1.0                    1.0   \n",
       "4            5         2814.0               2.0                    5.0   \n",
       "\n",
       "           X          Y  \n",
       "0 -79.949277  40.452551  \n",
       "1 -80.088018  40.440136  \n",
       "2 -79.891803  40.486625  \n",
       "3 -80.001939  40.454080  \n",
       "4 -80.052204  40.445900  "
      ]
     },
     "execution_count": 1,
     "metadata": {},
     "output_type": "execute_result"
    }
   ],
   "source": [
    "import pandas as pd\n",
    "%matplotlib inline\n",
    "import matplotlib.pyplot as plt\n",
    "\n",
    "arrest = pd.read_csv(\"arrests.csv\")\n",
    "arrest.head()"
   ]
  },
  {
   "cell_type": "markdown",
   "metadata": {},
   "source": [
    "Lists all the neighborhoods"
   ]
  },
  {
   "cell_type": "code",
   "execution_count": 2,
   "metadata": {},
   "outputs": [
    {
     "name": "stdout",
     "output_type": "stream",
     "text": [
      "['Bloomfield' 'Outside City' 'Westwood' 'East Allegheny' 'Crafton Heights'\n",
      " 'Greenfield' 'Brookline' 'Regent Square' 'East Liberty' nan 'East Hills'\n",
      " 'Carrick' 'Allegheny Center' 'South Side Flats' 'Sheraden'\n",
      " 'East Carnegie' 'Golden Triangle/Civic Arena' 'Point Breeze North'\n",
      " 'Perry South' 'Allentown' 'North Shore' 'Marshall-Shadeland'\n",
      " 'Central Oakland' 'Middle Hill' 'Strip District'\n",
      " 'Lincoln-Lemington-Belmar' 'Central Northside' 'Troy Hill-Herrs Island'\n",
      " 'Highland Park' 'Homewood North' 'Northview Heights' 'Brighton Heights'\n",
      " 'Hazelwood' 'Perry North' 'Bedford Dwellings' 'Elliott' 'Beechview'\n",
      " 'Fineview' 'Glen Hazel' 'Spring Hill-City View' 'Bluff' 'Manchester'\n",
      " 'Homewood West' 'Outside County' 'Point Breeze' 'Homewood South'\n",
      " 'Squirrel Hill South' 'Terrace Village' 'Upper Lawrenceville' 'Arlington'\n",
      " 'South Side Slopes' 'Lower Lawrenceville' 'Garfield' 'Lincoln Place'\n",
      " 'Larimer' 'Mount Washington' 'California-Kirkbride' 'Banksville'\n",
      " 'Bon Air' 'South Shore' 'Beltzhoover' 'Knoxville' 'Chateau'\n",
      " 'Crawford-Roberts' 'Polish Hill' 'Fairywood' 'West End' 'Shadyside'\n",
      " 'Morningside' 'Overbrook' 'Friendship' 'North Oakland'\n",
      " 'Central Lawrenceville' 'Oakwood' 'Upper Hill' 'South Oakland'\n",
      " 'West Oakland' 'Spring Garden' 'Allegheny West' 'St. Clair'\n",
      " 'Stanton Heights' 'Esplen' 'Squirrel Hill North'\n",
      " 'Mt. Oliver Neighborhood' 'Summer Hill' 'Arlington Heights' 'Troy Hill'\n",
      " 'Central Business District' 'Central North Side' 'Mount Oliver' 'Windgap'\n",
      " 'Outside State' 'Duquesne Heights' 'New Homestead' 'Ridgemont'\n",
      " 'Swisshelm Park' 'Hays' 'Chartiers City' 'Mt. Oliver Boro']\n"
     ]
    }
   ],
   "source": [
    "towns = arrest[\"INCIDENTNEIGHBORHOOD\"].unique()\n",
    "print (towns)"
   ]
  },
  {
   "cell_type": "code",
   "execution_count": 3,
   "metadata": {},
   "outputs": [
    {
     "data": {
      "text/plain": [
       "Central Business District    3313\n",
       "South Side Flats             2840\n",
       "Carrick                      1960\n",
       "East Allegheny               1771\n",
       "Homewood South               1742\n",
       "                             ... \n",
       "Regent Square                  28\n",
       "Central Northside              23\n",
       "Mt. Oliver Boro                18\n",
       "Troy Hill-Herrs Island          6\n",
       "Mt. Oliver Neighborhood         2\n",
       "Name: INCIDENTNEIGHBORHOOD, Length: 98, dtype: int64"
      ]
     },
     "execution_count": 3,
     "metadata": {},
     "output_type": "execute_result"
    }
   ],
   "source": [
    "arrest['INCIDENTNEIGHBORHOOD'].value_counts()"
   ]
  },
  {
   "cell_type": "raw",
   "metadata": {},
   "source": []
  },
  {
   "cell_type": "code",
   "execution_count": 6,
   "metadata": {},
   "outputs": [
    {
     "data": {
      "text/plain": [
       "<matplotlib.axes._subplots.AxesSubplot at 0x7fd33b399700>"
      ]
     },
     "execution_count": 6,
     "metadata": {},
     "output_type": "execute_result"
    },
    {
     "data": {
      "image/png": "[encoded data removed]",
      "text/plain": [
       "<Figure size 432x288 with 1 Axes>"
      ]
     },
     "metadata": {
      "needs_background": "light"
     },
     "output_type": "display_data"
    }
   ],
   "source": [
    "arrest[\"INCIDENTNEIGHBORHOOD\"].value_counts().plot()"
   ]
  }
 ],
 "metadata": {
  "kernelspec": {
   "display_name": "Python 3",
   "language": "python",
   "name": "python3"
  },
  "language_info": {
   "codemirror_mode": {
    "name": "ipython",
    "version": 3
   },
   "file_extension": ".py",
   "mimetype": "text/x-python",
   "name": "python",
   "nbconvert_exporter": "python",
   "pygments_lexer": "ipython3",
   "version": "3.8.3"
  }
 },
 "nbformat": 4,
 "nbformat_minor": 4
}
