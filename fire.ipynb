{
 "cells": [
  {
   "cell_type": "markdown",
   "metadata": {},
   "source": [
    "# Wabona Dandi: Fires"
   ]
  },
  {
   "cell_type": "markdown",
   "metadata": {},
   "source": [
    "## Which neighborhood in Pittsburgh has the most amount of fires that occur? The one with the most amount of fires would mean that it is the unsafest, and overall best neighborhood to live in based on our goal."
   ]
  },
  {
   "cell_type": "markdown",
   "metadata": {},
   "source": [
    "# Importing Data"
   ]
  },
  {
   "cell_type": "markdown",
   "metadata": {},
   "source": [
    "## The data contains the csv file that has the metrics needed to determine which neighborhood has the most fires. \n",
    "##### I plan to use this data throughout my findings. "
   ]
  },
  {
   "cell_type": "code",
<<<<<<< HEAD
   "execution_count": 2,
=======
   "execution_count": 3,
>>>>>>> 24e7257445b9130572969b7d53d9b82721408214
   "metadata": {},
   "outputs": [
    {
     "data": {
      "text/html": [
       "<div>\n",
       "<style scoped>\n",
       "    .dataframe tbody tr th:only-of-type {\n",
       "        vertical-align: middle;\n",
       "    }\n",
       "\n",
       "    .dataframe tbody tr th {\n",
       "        vertical-align: top;\n",
       "    }\n",
       "\n",
       "    .dataframe thead th {\n",
       "        text-align: right;\n",
       "    }\n",
       "</style>\n",
       "<table border=\"1\" class=\"dataframe\">\n",
       "  <thead>\n",
       "    <tr style=\"text-align: right;\">\n",
       "      <th></th>\n",
       "      <th>call_no</th>\n",
       "      <th>incident_type</th>\n",
       "      <th>type_description</th>\n",
       "      <th>address</th>\n",
       "      <th>alarm_time</th>\n",
       "      <th>alarms</th>\n",
       "      <th>primary_unit</th>\n",
       "      <th>census_tract</th>\n",
       "      <th>neighborhood</th>\n",
       "      <th>council_district</th>\n",
       "      <th>ward</th>\n",
       "      <th>tract</th>\n",
       "      <th>public_works_division</th>\n",
       "      <th>pli_division</th>\n",
       "      <th>police_zone</th>\n",
       "      <th>fire_zone</th>\n",
       "      <th>latitude</th>\n",
       "      <th>longitude</th>\n",
       "    </tr>\n",
       "  </thead>\n",
       "  <tbody>\n",
       "    <tr>\n",
       "      <th>0</th>\n",
       "      <td>F160029985</td>\n",
       "      <td>111.0</td>\n",
       "      <td>Building fire</td>\n",
       "      <td>800 BLOCK CENTER ST, WILKINSBURG PA 15221</td>\n",
       "      <td>2016-04-21T05:01:04</td>\n",
       "      <td>1</td>\n",
       "      <td>231EN16</td>\n",
       "      <td>NaN</td>\n",
       "      <td>NaN</td>\n",
       "      <td>NaN</td>\n",
       "      <td>NaN</td>\n",
       "      <td>4.200356e+10</td>\n",
       "      <td>NaN</td>\n",
       "      <td>NaN</td>\n",
       "      <td>NaN</td>\n",
       "      <td>3-16</td>\n",
       "      <td>40.441275</td>\n",
       "      <td>-79.882485</td>\n",
       "    </tr>\n",
       "    <tr>\n",
       "      <th>1</th>\n",
       "      <td>F180022058</td>\n",
       "      <td>111.0</td>\n",
       "      <td>Building fire</td>\n",
       "      <td>1100 BLOCK JANE ST, WILKINSBURG PA 15221</td>\n",
       "      <td>2018-03-13T08:34:43</td>\n",
       "      <td>1</td>\n",
       "      <td>231EN16</td>\n",
       "      <td>NaN</td>\n",
       "      <td>NaN</td>\n",
       "      <td>NaN</td>\n",
       "      <td>NaN</td>\n",
       "      <td>4.200356e+10</td>\n",
       "      <td>NaN</td>\n",
       "      <td>NaN</td>\n",
       "      <td>NaN</td>\n",
       "      <td>3-21</td>\n",
       "      <td>40.436342</td>\n",
       "      <td>-79.881003</td>\n",
       "    </tr>\n",
       "    <tr>\n",
       "      <th>2</th>\n",
       "      <td>F180022102</td>\n",
       "      <td>131.0</td>\n",
       "      <td>Passenger vehicle fire</td>\n",
       "      <td>SB STATE HWY 28 SB AT 31S, PITTSBURGH PA 15212</td>\n",
       "      <td>2018-03-13T11:54:23</td>\n",
       "      <td>0</td>\n",
       "      <td>231EN32</td>\n",
       "      <td>2406.0</td>\n",
       "      <td>NaN</td>\n",
       "      <td>NaN</td>\n",
       "      <td>NaN</td>\n",
       "      <td>NaN</td>\n",
       "      <td>NaN</td>\n",
       "      <td>NaN</td>\n",
       "      <td>NaN</td>\n",
       "      <td>1-1A</td>\n",
       "      <td>NaN</td>\n",
       "      <td>NaN</td>\n",
       "    </tr>\n",
       "    <tr>\n",
       "      <th>3</th>\n",
       "      <td>F170043431</td>\n",
       "      <td>131.0</td>\n",
       "      <td>Passenger vehicle fire</td>\n",
       "      <td>1700 BLOCK BELLEAU DR, PITTSBURGH PA 15212</td>\n",
       "      <td>2017-05-31T08:39:47</td>\n",
       "      <td>0</td>\n",
       "      <td>231EN38</td>\n",
       "      <td>2509.0</td>\n",
       "      <td>Fineview</td>\n",
       "      <td>6.0</td>\n",
       "      <td>25.0</td>\n",
       "      <td>4.200325e+10</td>\n",
       "      <td>1.0</td>\n",
       "      <td>25.0</td>\n",
       "      <td>1.0</td>\n",
       "      <td>1-10</td>\n",
       "      <td>40.460303</td>\n",
       "      <td>-80.006980</td>\n",
       "    </tr>\n",
       "    <tr>\n",
       "      <th>4</th>\n",
       "      <td>F180021111</td>\n",
       "      <td>111.0</td>\n",
       "      <td>Building fire</td>\n",
       "      <td>2400 BLOCK VILLAGE RD, PITTSBURGH PA 15205</td>\n",
       "      <td>2018-03-09T10:26:42</td>\n",
       "      <td>1</td>\n",
       "      <td>231EN31</td>\n",
       "      <td>2808.0</td>\n",
       "      <td>Fairywood</td>\n",
       "      <td>2.0</td>\n",
       "      <td>28.0</td>\n",
       "      <td>4.200356e+10</td>\n",
       "      <td>5.0</td>\n",
       "      <td>28.0</td>\n",
       "      <td>6.0</td>\n",
       "      <td>1-16</td>\n",
       "      <td>40.449009</td>\n",
       "      <td>-80.076607</td>\n",
       "    </tr>\n",
       "    <tr>\n",
       "      <th>...</th>\n",
       "      <td>...</td>\n",
       "      <td>...</td>\n",
       "      <td>...</td>\n",
       "      <td>...</td>\n",
       "      <td>...</td>\n",
       "      <td>...</td>\n",
       "      <td>...</td>\n",
       "      <td>...</td>\n",
       "      <td>...</td>\n",
       "      <td>...</td>\n",
       "      <td>...</td>\n",
       "      <td>...</td>\n",
       "      <td>...</td>\n",
       "      <td>...</td>\n",
       "      <td>...</td>\n",
       "      <td>...</td>\n",
       "      <td>...</td>\n",
       "      <td>...</td>\n",
       "    </tr>\n",
       "    <tr>\n",
       "      <th>8423</th>\n",
       "      <td>F220022447</td>\n",
       "      <td>111.0</td>\n",
       "      <td>Building fire</td>\n",
       "      <td>4600 BLOCK ROSINA WAY, PITTSBURGH PA 15224</td>\n",
       "      <td>2022-03-31T22:07:32</td>\n",
       "      <td>1</td>\n",
       "      <td>231EN06</td>\n",
       "      <td>903.0</td>\n",
       "      <td>NaN</td>\n",
       "      <td>NaN</td>\n",
       "      <td>NaN</td>\n",
       "      <td>NaN</td>\n",
       "      <td>NaN</td>\n",
       "      <td>NaN</td>\n",
       "      <td>NaN</td>\n",
       "      <td>3-6</td>\n",
       "      <td>NaN</td>\n",
       "      <td>NaN</td>\n",
       "    </tr>\n",
       "    <tr>\n",
       "      <th>8424</th>\n",
       "      <td>F220021639</td>\n",
       "      <td>131.0</td>\n",
       "      <td>Passenger vehicle fire</td>\n",
       "      <td>1300 BLOCK CENTER ST, WILKINSBURG PA 15221</td>\n",
       "      <td>2022-03-29T02:18:18</td>\n",
       "      <td>0</td>\n",
       "      <td>231EN16</td>\n",
       "      <td>NaN</td>\n",
       "      <td>NaN</td>\n",
       "      <td>NaN</td>\n",
       "      <td>NaN</td>\n",
       "      <td>NaN</td>\n",
       "      <td>NaN</td>\n",
       "      <td>NaN</td>\n",
       "      <td>NaN</td>\n",
       "      <td>3-16</td>\n",
       "      <td>NaN</td>\n",
       "      <td>NaN</td>\n",
       "    </tr>\n",
       "    <tr>\n",
       "      <th>8425</th>\n",
       "      <td>F220022826</td>\n",
       "      <td>150.0</td>\n",
       "      <td>Outside rubbish fire, Other</td>\n",
       "      <td>2100 BLOCK BROWNSVILLE RD, PITTSBURGH PA 15210</td>\n",
       "      <td>2022-04-02T15:36:04</td>\n",
       "      <td>0</td>\n",
       "      <td>231EN22</td>\n",
       "      <td>2901.0</td>\n",
       "      <td>Carrick</td>\n",
       "      <td>4.0</td>\n",
       "      <td>29.0</td>\n",
       "      <td>4.200329e+10</td>\n",
       "      <td>3.0</td>\n",
       "      <td>29.0</td>\n",
       "      <td>3.0</td>\n",
       "      <td>4-12</td>\n",
       "      <td>40.393200</td>\n",
       "      <td>-79.986524</td>\n",
       "    </tr>\n",
       "    <tr>\n",
       "      <th>8426</th>\n",
       "      <td>F220023419</td>\n",
       "      <td>150.0</td>\n",
       "      <td>Outside rubbish fire, Other</td>\n",
       "      <td>200 BLOCK THE BOULEVARD ST, PITTSBURGH PA 15226</td>\n",
       "      <td>2022-04-05T09:07:03</td>\n",
       "      <td>0</td>\n",
       "      <td>231EN23</td>\n",
       "      <td>2902.0</td>\n",
       "      <td>Carrick</td>\n",
       "      <td>4.0</td>\n",
       "      <td>29.0</td>\n",
       "      <td>4.200329e+10</td>\n",
       "      <td>3.0</td>\n",
       "      <td>29.0</td>\n",
       "      <td>3.0</td>\n",
       "      <td>4-12</td>\n",
       "      <td>40.401099</td>\n",
       "      <td>-79.985736</td>\n",
       "    </tr>\n",
       "    <tr>\n",
       "      <th>8427</th>\n",
       "      <td>F220023799</td>\n",
       "      <td>131.0</td>\n",
       "      <td>Passenger vehicle fire</td>\n",
       "      <td>00 BLOCK I279 NB, PITTSBURGH PA 15212</td>\n",
       "      <td>2022-04-06T16:37:23</td>\n",
       "      <td>0</td>\n",
       "      <td>231EN38</td>\n",
       "      <td>2609.0</td>\n",
       "      <td>NaN</td>\n",
       "      <td>NaN</td>\n",
       "      <td>NaN</td>\n",
       "      <td>NaN</td>\n",
       "      <td>NaN</td>\n",
       "      <td>NaN</td>\n",
       "      <td>NaN</td>\n",
       "      <td>1-13</td>\n",
       "      <td>NaN</td>\n",
       "      <td>NaN</td>\n",
       "    </tr>\n",
       "  </tbody>\n",
       "</table>\n",
       "<p>8428 rows × 18 columns</p>\n",
       "</div>"
      ],
      "text/plain": [
       "         call_no  incident_type             type_description  \\\n",
       "0     F160029985          111.0                Building fire   \n",
       "1     F180022058          111.0                Building fire   \n",
       "2     F180022102          131.0       Passenger vehicle fire   \n",
       "3     F170043431          131.0       Passenger vehicle fire   \n",
       "4     F180021111          111.0                Building fire   \n",
       "...          ...            ...                          ...   \n",
       "8423  F220022447          111.0                Building fire   \n",
       "8424  F220021639          131.0       Passenger vehicle fire   \n",
       "8425  F220022826          150.0  Outside rubbish fire, Other   \n",
       "8426  F220023419          150.0  Outside rubbish fire, Other   \n",
       "8427  F220023799          131.0       Passenger vehicle fire   \n",
       "\n",
       "                                              address           alarm_time  \\\n",
       "0           800 BLOCK CENTER ST, WILKINSBURG PA 15221  2016-04-21T05:01:04   \n",
       "1            1100 BLOCK JANE ST, WILKINSBURG PA 15221  2018-03-13T08:34:43   \n",
       "2      SB STATE HWY 28 SB AT 31S, PITTSBURGH PA 15212  2018-03-13T11:54:23   \n",
       "3          1700 BLOCK BELLEAU DR, PITTSBURGH PA 15212  2017-05-31T08:39:47   \n",
       "4          2400 BLOCK VILLAGE RD, PITTSBURGH PA 15205  2018-03-09T10:26:42   \n",
       "...                                               ...                  ...   \n",
       "8423       4600 BLOCK ROSINA WAY, PITTSBURGH PA 15224  2022-03-31T22:07:32   \n",
       "8424       1300 BLOCK CENTER ST, WILKINSBURG PA 15221  2022-03-29T02:18:18   \n",
       "8425   2100 BLOCK BROWNSVILLE RD, PITTSBURGH PA 15210  2022-04-02T15:36:04   \n",
       "8426  200 BLOCK THE BOULEVARD ST, PITTSBURGH PA 15226  2022-04-05T09:07:03   \n",
       "8427            00 BLOCK I279 NB, PITTSBURGH PA 15212  2022-04-06T16:37:23   \n",
       "\n",
       "      alarms primary_unit  census_tract neighborhood  council_district  ward  \\\n",
       "0          1      231EN16           NaN          NaN               NaN   NaN   \n",
       "1          1      231EN16           NaN          NaN               NaN   NaN   \n",
       "2          0      231EN32        2406.0          NaN               NaN   NaN   \n",
       "3          0      231EN38        2509.0     Fineview               6.0  25.0   \n",
       "4          1      231EN31        2808.0    Fairywood               2.0  28.0   \n",
       "...      ...          ...           ...          ...               ...   ...   \n",
       "8423       1      231EN06         903.0          NaN               NaN   NaN   \n",
       "8424       0      231EN16           NaN          NaN               NaN   NaN   \n",
       "8425       0      231EN22        2901.0      Carrick               4.0  29.0   \n",
       "8426       0      231EN23        2902.0      Carrick               4.0  29.0   \n",
       "8427       0      231EN38        2609.0          NaN               NaN   NaN   \n",
       "\n",
       "             tract  public_works_division  pli_division  police_zone  \\\n",
       "0     4.200356e+10                    NaN           NaN          NaN   \n",
       "1     4.200356e+10                    NaN           NaN          NaN   \n",
       "2              NaN                    NaN           NaN          NaN   \n",
       "3     4.200325e+10                    1.0          25.0          1.0   \n",
       "4     4.200356e+10                    5.0          28.0          6.0   \n",
       "...            ...                    ...           ...          ...   \n",
       "8423           NaN                    NaN           NaN          NaN   \n",
       "8424           NaN                    NaN           NaN          NaN   \n",
       "8425  4.200329e+10                    3.0          29.0          3.0   \n",
       "8426  4.200329e+10                    3.0          29.0          3.0   \n",
       "8427           NaN                    NaN           NaN          NaN   \n",
       "\n",
       "     fire_zone   latitude  longitude  \n",
       "0         3-16  40.441275 -79.882485  \n",
       "1         3-21  40.436342 -79.881003  \n",
       "2         1-1A        NaN        NaN  \n",
       "3         1-10  40.460303 -80.006980  \n",
       "4         1-16  40.449009 -80.076607  \n",
       "...        ...        ...        ...  \n",
       "8423       3-6        NaN        NaN  \n",
       "8424      3-16        NaN        NaN  \n",
       "8425      4-12  40.393200 -79.986524  \n",
       "8426      4-12  40.401099 -79.985736  \n",
       "8427      1-13        NaN        NaN  \n",
       "\n",
       "[8428 rows x 18 columns]"
      ]
     },
<<<<<<< HEAD
     "execution_count": 2,
=======
     "execution_count": 3,
>>>>>>> 24e7257445b9130572969b7d53d9b82721408214
     "metadata": {},
     "output_type": "execute_result"
    }
   ],
   "source": [
    "import numpy as np\n",
    "import pandas as pd\n",
    "%matplotlib inline \n",
    "import matplotlib.pyplot as plt\n",
    "\n",
    "dataset = pd.read_csv(\"Fires.csv\")\n",
    "dataset"
<<<<<<< HEAD
   ]
  },
  {
   "cell_type": "markdown",
   "metadata": {},
   "source": [
    "####  Data provided by Western Pennsylvania Regional Data Center. "
=======
>>>>>>> 24e7257445b9130572969b7d53d9b82721408214
   ]
  },
  {
   "cell_type": "markdown",
   "metadata": {},
   "source": [
    "## This csv file needs to be parsed and be made to be easier read."
   ]
  },
  {
   "cell_type": "markdown",
   "metadata": {},
   "source": [
    "Using the group by function will be able to split the data into something easier to digest.\n",
    "\n",
    "I am sure now that having the neighborhoods and the amount of fires occur as the main stats to observe will aid in finding the best neighborhood!"
   ]
  },
  {
   "cell_type": "markdown",
   "metadata": {},
   "source": [
    "# The neighborhoods with the most fires?"
   ]
  },
  {
   "cell_type": "markdown",
   "metadata": {},
   "source": [
    "## As you can see the neighborhood with the most fires (involving all types) is Carrick. What goes in the fire category includes building fires, veichle fires, and rubbish/trash fires.\n",
    "\n",
    "This is quite suprising to see."
   ]
  },
  {
   "cell_type": "code",
<<<<<<< HEAD
   "execution_count": 5,
=======
   "execution_count": 4,
>>>>>>> 24e7257445b9130572969b7d53d9b82721408214
   "metadata": {},
   "outputs": [
    {
     "data": {
      "text/plain": [
       "neighborhood\n",
       "Carrick                      262\n",
       "Squirrel Hill South          233\n",
       "Central Business District    232\n",
       "South Side Flats             225\n",
       "Hazelwood                    217\n",
       "                            ... \n",
       "St. Clair                     11\n",
       "East Carnegie                 11\n",
       "Mt. Oliver                    11\n",
       "Regent Square                  7\n",
       "Mount Oliver Borough           3\n",
       "Name: council_district, Length: 91, dtype: int64"
      ]
     },
<<<<<<< HEAD
     "execution_count": 5,
=======
     "execution_count": 4,
>>>>>>> 24e7257445b9130572969b7d53d9b82721408214
     "metadata": {},
     "output_type": "execute_result"
    }
   ],
   "source": [
    "# load in the fire data file\n",
    "data = pd.read_csv(\"Fires.csv\", index_col=\"neighborhood\", parse_dates=True)\n",
    "data1 = data.iloc[:,8] \n",
    "data1.groupby('neighborhood').count().sort_values(ascending= False)"
   ]
  },
  {
   "cell_type": "markdown",
   "metadata": {},
   "source": [
    "# Barchart of the data!\n",
    "## A visual helps to see the data more clearly.\n",
    "\n",
    "Carrick, Squirrel Hill District, and Central Business District are the top three neighborhoods that have the most amount of fires occur."
   ]
  },
  {
   "cell_type": "code",
   "execution_count": 7,
   "metadata": {},
   "outputs": [
    {
     "data": {
      "text/plain": [
<<<<<<< HEAD
       "<matplotlib.axes._subplots.AxesSubplot at 0x7f8eb5b2d3a0>"
=======
       "<matplotlib.axes._subplots.AxesSubplot at 0x7f5df3508c40>"
>>>>>>> 24e7257445b9130572969b7d53d9b82721408214
      ]
     },
     "execution_count": 7,
     "metadata": {},
     "output_type": "execute_result"
    },
    {
     "data": {
      "image/png": "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\n",
      "text/plain": [
       "<Figure size 1440x792 with 1 Axes>"
      ]
     },
     "metadata": {
      "needs_background": "light"
     },
     "output_type": "display_data"
    }
   ],
   "source": [
    "data1.groupby('neighborhood').count().sort_values(ascending= False).plot.bar(figsize = (20, 11), title = \"Fires by Neighborhood\")"
   ]
  }
 ],
 "metadata": {
  "kernelspec": {
   "display_name": "Python 3",
   "language": "python",
   "name": "python3"
  },
  "language_info": {
   "codemirror_mode": {
    "name": "ipython",
    "version": 3
   },
   "file_extension": ".py",
   "mimetype": "text/x-python",
   "name": "python",
   "nbconvert_exporter": "python",
   "pygments_lexer": "ipython3",
   "version": "3.8.3"
  }
 },
 "nbformat": 4,
 "nbformat_minor": 4
}
